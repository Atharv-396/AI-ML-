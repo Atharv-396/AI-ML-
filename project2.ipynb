{
  "nbformat": 4,
  "nbformat_minor": 0,
  "metadata": {
    "colab": {
      "provenance": [],
      "authorship_tag": "ABX9TyMPmU2hfQQ7HVS+bti+gF4b",
      "include_colab_link": true
    },
    "kernelspec": {
      "name": "python3",
      "display_name": "Python 3"
    },
    "language_info": {
      "name": "python"
    }
  },
  "cells": [
    {
      "cell_type": "markdown",
      "metadata": {
        "id": "view-in-github",
        "colab_type": "text"
      },
      "source": [
        "<a href=\"https://colab.research.google.com/github/Atharv-396/AI-ML-/blob/main/project2.ipynb\" target=\"_parent\"><img src=\"https://colab.research.google.com/assets/colab-badge.svg\" alt=\"Open In Colab\"/></a>"
      ]
    },
    {
      "cell_type": "code",
      "execution_count": null,
      "metadata": {
        "id": "3o-Pw8_dZc9D"
      },
      "outputs": [],
      "source": [
        "import pandas as pd\n",
        "data1=pd.read_csv(\"/content/Refined data1\")\n",
        "data1"
      ]
    },
    {
      "cell_type": "code",
      "source": [
        "\n",
        "X_sentiment = data1['text']\n",
        "y_sentiment = data1['airline_sentiment']\n",
        "\n",
        "\n",
        "data_negative = data1[data1['negativereason'].notna()].copy()\n",
        "print(data_negative)\n",
        "\n",
        "X_reason = data_negative['text']\n",
        "y_reason = data_negative['negativereason']"
      ],
      "metadata": {
        "id": "LsHDNZlsaQdL"
      },
      "execution_count": null,
      "outputs": []
    },
    {
      "cell_type": "code",
      "source": [
        "from sklearn.feature_extraction.text import TfidfVectorizer\n",
        "from sklearn.linear_model import LogisticRegression\n",
        "\n",
        "\n",
        "tfidf_vectorizer_sentiment = TfidfVectorizer(max_features=5000, stop_words='english')\n",
        "X_tfidf_sentiment = tfidf_vectorizer_sentiment.fit_transform(X_sentiment)\n",
        "\n",
        "\n",
        "model_sentiment = LogisticRegression(max_iter=1000)\n",
        "model_sentiment.fit(X_tfidf_sentiment, y_sentiment)\n",
        "\n"
      ],
      "metadata": {
        "id": "-oKUEOnga-ZX"
      },
      "execution_count": null,
      "outputs": []
    },
    {
      "cell_type": "code",
      "source": [
        "\n",
        "tfidf_vectorizer_reason = TfidfVectorizer(max_features=5000, stop_words='english')\n",
        "X_tfidf_reason = tfidf_vectorizer_reason.fit_transform(X_reason)\n",
        "\n",
        "\n",
        "model_reason = LogisticRegression(max_iter=1000)\n",
        "model_reason.fit(X_tfidf_reason, y_reason)\n",
        "\n"
      ],
      "metadata": {
        "id": "A__r-RB7bKNl"
      },
      "execution_count": null,
      "outputs": []
    },
    {
      "cell_type": "code",
      "source": [
        "\n",
        "user_input = input(\"Enter the feedback: \")\n",
        "\n",
        "\n",
        "input_tfidf_sentiment = tfidf_vectorizer_sentiment.transform([user_input])\n",
        "predicted_sentiment = model_sentiment.predict(input_tfidf_sentiment)[0]\n",
        "\n",
        "print(f\"Predicted Sentiment: {predicted_sentiment}\")\n",
        "\n",
        "\n",
        "if predicted_sentiment == 'negative':\n",
        "    input_tfidf_reason = tfidf_vectorizer_reason.transform([user_input])\n",
        "    predicted_reason = model_reason.predict(input_tfidf_reason)[0]\n",
        "    print(f\"Predicted Negative Reason: {predicted_reason}\")"
      ],
      "metadata": {
        "id": "6D4gLpcZbYUg"
      },
      "execution_count": null,
      "outputs": []
    }
  ]
}